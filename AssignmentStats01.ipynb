{
  "nbformat": 4,
  "nbformat_minor": 0,
  "metadata": {
    "colab": {
      "provenance": []
    },
    "kernelspec": {
      "name": "python3",
      "display_name": "Python 3"
    },
    "language_info": {
      "name": "python"
    }
  },
  "cells": [
    {
      "cell_type": "markdown",
      "source": [
        "1. What is the difference between descriptive statistics and inferential\n",
        "   statistics? Explain with examples.\n",
        "   - Descriptive statistics and inferential statistics differ in their goals and applications. Descriptive statistics focus on summarizing and describing the characteristics of a specific dataset using measures such as the mean, median, mode, and standard deviation, along with visual tools like charts and graphs. For example, if a teacher records the test scores of 30 students, descriptive statistics can be used to find the average score, the highest and lowest scores, and how the scores vary within the class. In contrast, inferential statistics involve using a sample of data to make predictions or draw conclusions about a larger population.\n",
        "\n",
        "2. What is sampling in statistics? Explain the differences between random\n",
        "and stratified sampling.\n",
        "   - Sampling in statistics is the process of selecting a smaller group, called a sample, from a larger population to study and draw conclusions about the entire population. Since it is often impractical to collect data from every individual, sampling provides a practical way to gather information efficiently. Two common types of sampling are random sampling and stratified sampling. In random sampling, every member of the population has an equal chance of being selected, which helps to reduce bias and ensures that the sample represents the population fairly. For example, randomly selecting 100 students from a school’s entire student list is a random sampling method. In contrast, stratified sampling involves dividing the population into distinct subgroups or strata based on certain characteristics, such as gender or age, and then randomly selecting samples from each subgroup proportionally.\n",
        "\n",
        "3. Define mean, median, and mode. Explain why these measures of central\n",
        "tendency are important.\n",
        "   - Mean, median, and mode are three important measures of central tendency that summarize a set of data by identifying a central or typical value. The mean is the arithmetic average of all the data points, calculated by adding all the values and dividing by the number of observations. The median is the middle value when the data are arranged in order, dividing the dataset into two equal halves. The mode is the value that appears most frequently in the dataset. These measures are important because they provide a simple summary that represents the entire dataset, helping to understand the general trend or typical value.\n",
        "\n",
        "4. Explain skewness and kurtosis. What does a positive skew imply about the\n",
        "data?\n",
        "   - Skewness and kurtosis are ways to describe the shape of a data set. Skewness tells us if the data is balanced or if it leans more to one side. When the skewness is positive, it means the data has a longer tail on the right side, with some larger values pulling the average up. This shows that most values are smaller, but a few are much bigger. Kurtosis, on the other hand, tells us how sharp or flat the peak of the data is compared to a normal distribution. A high kurtosis means the data has a sharp peak and heavy tails, while a low kurtosis means the data is flatter. So, a positive skew means the data is not evenly spread and has some unusually high values on the right side. For example, incomes often have a positive skew because a few people earn much more than most others.\n",
        "\n"
      ],
      "metadata": {
        "id": "UtnFKpkWevv4"
      }
    },
    {
      "cell_type": "code",
      "execution_count": 2,
      "metadata": {
        "colab": {
          "base_uri": "https://localhost:8080/"
        },
        "id": "rgvuclYTetv6",
        "outputId": "1d247798-b800-4516-98a2-876b282f78fa"
      },
      "outputs": [
        {
          "output_type": "stream",
          "name": "stdout",
          "text": [
            "Mean: 19.6\n",
            "Median: 19\n",
            "Mode: 12\n"
          ]
        }
      ],
      "source": [
        "# 5.Implement a Python program to compute the mean, median, and mode of  a given list of numbers.\n",
        "# numbers = [12, 15, 12, 18, 19, 12, 20, 22, 19, 19, 24, 24, 24, 26, 28]\n",
        "import statistics\n",
        "\n",
        "numbers = [12, 15, 12, 18, 19, 12, 20, 22, 19, 19, 24, 24, 24, 26, 28]\n",
        "\n",
        "mean = statistics.mean(numbers)\n",
        "median = statistics.median(numbers)\n",
        "mode = statistics.mode(numbers)\n",
        "\n",
        "print(\"Mean:\", mean)\n",
        "print(\"Median:\", median)\n",
        "print(\"Mode:\", mode)\n"
      ]
    },
    {
      "cell_type": "code",
      "source": [
        "# 6. Compute the covariance and correlation coefficient between the following two datasets provided as lists in Python:\n",
        "# list_x = [10, 20, 30, 40, 50]\n",
        "# list_y = [15, 25, 35, 45, 60]\n",
        "\n",
        "\n",
        "list_x = [10, 20, 30, 40, 50]\n",
        "list_y = [15, 25, 35, 45, 60]\n",
        "\n",
        "# Calculate means\n",
        "mean_x = sum(list_x) / len(list_x)\n",
        "mean_y = sum(list_y) / len(list_y)\n",
        "\n",
        "# Calculate covariance\n",
        "cov = sum((x - mean_x) * (y - mean_y) for x, y in zip(list_x, list_y)) / len(list_x)\n",
        "\n",
        "# Calculate standard deviations\n",
        "std_x = (sum((x - mean_x)**2 for x in list_x) / len(list_x))**0.5\n",
        "std_y = (sum((y - mean_y)**2 for y in list_y) / len(list_y))**0.5\n",
        "\n",
        "# Calculate correlation coefficient\n",
        "corr = cov / (std_x * std_y)\n",
        "\n",
        "print(\"Covariance:\", cov)\n",
        "print(\"Correlation Coefficient:\", corr)\n"
      ],
      "metadata": {
        "id": "8GKPfdMyi637"
      },
      "execution_count": null,
      "outputs": []
    },
    {
      "cell_type": "code",
      "source": [
        "# 7. Write a Python script to draw a boxplot for the following numeric list and identify its outliers. Explain the result:\n",
        "# data = [12, 14, 14, 15, 18, 19, 19, 21, 22, 22, 23, 23, 24, 26, 29, 35]\n",
        "\n",
        "import matplotlib.pyplot as plt\n",
        "import numpy as np\n",
        "\n",
        "# Given data\n",
        "data = [12, 14, 14, 15, 18, 19, 19, 21, 22, 22, 23, 23, 24, 26, 29, 35]\n",
        "\n",
        "# Create boxplot\n",
        "plt.boxplot(data, vert=False)\n",
        "plt.title(\"Boxplot of Data\")\n",
        "plt.xlabel(\"Values\")\n",
        "plt.grid(True)\n",
        "plt.show()\n",
        "\n",
        "# Calculate Q1, Q3, and IQR\n",
        "q1 = np.percentile(data, 25)\n",
        "q3 = np.percentile(data, 75)\n",
        "iqr = q3 - q1\n",
        "\n",
        "# Determine outlier bounds\n",
        "lower_bound = q1 - 1.5 * iqr\n",
        "upper_bound = q3 + 1.5 * iqr\n",
        "\n",
        "# Identify outliers\n",
        "outliers = [x for x in data if x < lower_bound or x > upper_bound]\n",
        "\n",
        "# Print results\n",
        "print(\"Q1:\", q1)\n",
        "print(\"Q3:\", q3)\n",
        "print(\"IQR:\", iqr)\n",
        "print(\"Lower Bound:\", lower_bound)\n",
        "print(\"Upper Bound:\", upper_bound)\n",
        "print(\"Outliers:\", outliers)\n",
        "\n",
        "# Explain Result:\n",
        "# he boxplot analysis of the given numeric list helps visualize the distribution of values and identify any outliers.\n",
        "# By calculating the first quartile (Q1), third quartile (Q3), and the interquartile range (IQR), we determine the typical spread of the data.\n",
        "# Any value that lies beyond 1.5 times the IQR from either quartile is considered an outlier.\n",
        "# In this case, the value 35 falls above the upper bound and is identified as an outlier.\n",
        "# This means that while most of the data points are clustered within a consistent range, 35 stands out as unusually high.\n",
        "# Recognizing such outliers is important because they can influence statistical measures like the mean and may represent exceptional cases or data entry errors.\n"
      ],
      "metadata": {
        "colab": {
          "base_uri": "https://localhost:8080/",
          "height": 576
        },
        "id": "PsYfGkkqkQda",
        "outputId": "d089a782-e47a-4906-deb0-12b6128f63fc"
      },
      "execution_count": 3,
      "outputs": [
        {
          "output_type": "display_data",
          "data": {
            "text/plain": [
              "<Figure size 640x480 with 1 Axes>"
            ],
            "image/png": "[encoded data removed]"
          },
          "metadata": {}
        },
        {
          "output_type": "stream",
          "name": "stdout",
          "text": [
            "Q1: 17.25\n",
            "Q3: 23.25\n",
            "IQR: 6.0\n",
            "Lower Bound: 8.25\n",
            "Upper Bound: 32.25\n",
            "Outliers: [35]\n"
          ]
        }
      ]
    },
    {
      "cell_type": "markdown",
      "source": [
        "8. You are working as a data analyst in an e-commerce company. The\n",
        "marketing team wants to know if there is a relationship between advertising spend and daily sales.\n",
        "  ● Explain how you would use covariance and correlation to explore this\n",
        "    relationship.\n",
        "  ● Write Python code to compute the correlation between the two lists:\n",
        "      advertising_spend = [200, 250, 300, 400, 500]   \n",
        "      daily_sales = [2200, 2450, 2750, 3200, 4000]\n",
        "    - To understand whether advertising spend affects daily sales, we can use covariance and correlation. Covariance shows the direction of the relationship—if both values increase together, the covariance is positive. However, it doesn’t tell us how strong that relationship is. That’s where the correlation coefficient comes in. It measures both the strength and direction of the relationship on a scale from -1 to 1. A value close to +1 means a strong positive relationship, indicating that higher advertising spend is likely linked to higher sales. By calculating both, we can clearly see whether spending more on ads is helping boost daily sales."
      ],
      "metadata": {
        "id": "tKakeA1Wl9zh"
      }
    },
    {
      "cell_type": "code",
      "source": [
        "\n",
        "advertising_spend = [200, 250, 300, 400, 500]\n",
        "daily_sales = [2200, 2450, 2750, 3200, 4000]\n",
        "\n",
        "# Calculate means\n",
        "mean_ad = sum(advertising_spend) / len(advertising_spend)\n",
        "mean_sales = sum(daily_sales) / len(daily_sales)\n",
        "\n",
        "# Calculate covariance\n",
        "cov = sum((a - mean_ad) * (s - mean_sales) for a, s in zip(advertising_spend, daily_sales)) / len(advertising_spend)\n",
        "\n",
        "# Calculate standard deviations\n",
        "std_ad = (sum((a - mean_ad)**2 for a in advertising_spend) / len(advertising_spend))**0.5\n",
        "std_sales = (sum((s - mean_sales)**2 for s in daily_sales) / len(daily_sales))**0.5\n",
        "\n",
        "# Calculate correlation\n",
        "correlation = cov / (std_ad * std_sales)\n",
        "\n",
        "print(\"Correlation Coefficient:\", correlation)\n"
      ],
      "metadata": {
        "colab": {
          "base_uri": "https://localhost:8080/"
        },
        "id": "M75FyvUKl6FD",
        "outputId": "fb2eb474-0128-4ee7-9ff7-ebdba38e5eda"
      },
      "execution_count": 4,
      "outputs": [
        {
          "output_type": "stream",
          "name": "stdout",
          "text": [
            "Correlation Coefficient: 0.9935824101653328\n"
          ]
        }
      ]
    },
    {
      "cell_type": "markdown",
      "source": [
        "9. Your team has collected customer satisfaction survey data on a scale of\n",
        "1-10 and wants to understand its distribution before launching a new product.\n",
        "● Explain which summary statistics and visualizations (e.g. mean, standard\n",
        "deviation, histogram) you’d use.\n",
        "● Write Python code to create a histogram using Matplotlib for the survey data:\n",
        "survey_scores = [7, 8, 5, 9, 6, 7, 8, 9, 10, 4, 7, 6, 9, 8, 7]\n",
        "   - To understand how customers feel before launching a new product, it's important to analyze the distribution of their satisfaction scores. Summary statistics like the mean give an overall average score, while the median shows the middle value, helping to identify skewness in the data. The standard deviation reveals how spread out the scores are—whether most customers feel similarly or have mixed opinions. To visualize this, a histogram is ideal. It displays how frequently each score appears, making it easy to spot patterns such as clustering around certain values or the presence of unusually high or low scores. Together, these tools provide a clear picture of customer sentiment, helping the team make informed decisions."
      ],
      "metadata": {
        "id": "g_VK4cC4m-Tk"
      }
    },
    {
      "cell_type": "code",
      "source": [
        "import matplotlib.pyplot as plt\n",
        "\n",
        "# Survey data\n",
        "survey_scores = [7, 8, 5, 9, 6, 7, 8, 9, 10, 4, 7, 6, 9, 8, 7]\n",
        "\n",
        "# Create histogram\n",
        "plt.hist(survey_scores, bins=7, edgecolor='black', color='skyblue')\n",
        "plt.title(\"Customer Satisfaction Survey Scores\")\n",
        "plt.xlabel(\"Score (1–10)\")\n",
        "plt.ylabel(\"Number of Responses\")\n",
        "plt.grid(True)\n",
        "plt.show()\n"
      ],
      "metadata": {
        "colab": {
          "base_uri": "https://localhost:8080/",
          "height": 472
        },
        "id": "YdI0LjSZlH6s",
        "outputId": "2da82574-f1bd-4472-d519-fa6deee6efe7"
      },
      "execution_count": 5,
      "outputs": [
        {
          "output_type": "display_data",
          "data": {
            "text/plain": [
              "<Figure size 640x480 with 1 Axes>"
            ],
            "image/png": "[encoded data removed]"
          },
          "metadata": {}
        }
      ]
    },
    {
      "cell_type": "code",
      "source": [],
      "metadata": {
        "id": "8ZjoBqFPnobs"
      },
      "execution_count": null,
      "outputs": []
    }
  ]
}