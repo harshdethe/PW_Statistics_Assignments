{
  "nbformat": 4,
  "nbformat_minor": 0,
  "metadata": {
    "colab": {
      "provenance": []
    },
    "kernelspec": {
      "name": "python3",
      "display_name": "Python 3"
    },
    "language_info": {
      "name": "python"
    }
  },
  "cells": [
    {
      "cell_type": "markdown",
      "source": [
        "1. What is a random variable in probability theory?\n",
        "   - In probability theory, a random variable is a function that assigns a numerical value to each possible outcome of a random experiment. It provides a way to quantify the outcomes by mapping them from the sample space to real numbers. There are two main types of random variables: discrete, which take finit means countable values, and continuous, which take infinite means values within a continuous range. By using random variables, we can analyze and describe the behavior of random phenomena through probabilities, expectations, and other statistical measures.\n",
        "  \n",
        "2. What are the types of random variables?\n",
        "   - Random variables are classified into two main types: discrete and continuous. A discrete random variable takes on a countable number of distinct values, such as the result of rolling a die. Its probabilities are described by a probability mass function (PMF). On the other hand, a continuous random variable can take any value within a continuous range or interval, like the height of a person or the time it takes to complete a task. The probabilities for continuous random variables are described by a probability density function (PDF).\n",
        "\n",
        "3. Explain the difference between discrete and continuous distributions.\n",
        "   - The main difference between discrete and continuous distributions is about the types of values a random variable can take and how we measure their probabilities. A discrete distribution is for random variables that have specific, countable values, like the number of students in a class or the roll of a die. Here, we find the probability of each exact value. On the other hand, a continuous distribution is for random variables that can take any value within a range, like the height of a person or the time it takes to run a race.\n",
        "  \n",
        "4. What is a binomial distribution, and how is it used in probability?\n",
        "   - The binomial distribution is a probability distribution that models the number of successes in a fixed number of independent trials, where each trial has only two possible outcomes: success or failure. Each trial has the same probability of success, and the distribution helps calculate the probability of getting a certain number of successes out of the total trials. For example, it can be used to find the chance of getting exactly three heads when flipping a coin five times. The binomial distribution is widely used in situations where you repeat an experiment multiple times and want to know the likelihood of a specific number of successful outcomes.\n",
        "\n",
        "5. What is the standard normal distribution, and why is it important?\n",
        "   - The standard normal distribution is a special type of normal distribution that has a mean of 0 and a standard deviation of 1. It is a continuous probability distribution that is symmetric and bell-shaped, representing how values are distributed around the mean. The standard normal distribution is important because it serves as a reference or baseline for all normal distributions. By converting any normal distribution to the standard normal form using a process called standardization (or z-score transformation), we can easily calculate probabilities and compare different data sets. This makes it a fundamental tool in statistics for hypothesis testing, confidence intervals, and many other analyses.\n",
        "\n",
        "6. What is the Central Limit Theorem (CLT), and why is it critical in statistics?\n",
        "   - The Central Limit Theorem (CLT) is a fundamental principle in statistics that states that the distribution of the sum (or average) of a large number of independent, identically distributed random variables tends to approximate a normal distribution, regardless of the original distribution of the variables. This theorem is critical because it justifies the widespread use of the normal distribution in statistical inference, enabling analysts to make predictions and construct confidence intervals even when the underlying data distribution is unknown. The CLT provides a theoretical foundation for many statistical methods, making it possible to apply techniques like hypothesis testing and regression analysis with greater confidence in their validity.\n",
        "\n",
        "7. What is the significance of confidence intervals in statistical analysis?\n",
        "   - Confidence intervals play a crucial role in statistical analysis by providing a range of values within which the true population parameter is likely to lie, with a specified level of confidence. Unlike a single point estimate, a confidence interval accounts for sampling variability and uncertainty, offering a more informative and reliable measure. For example, a 95% confidence interval suggests that if the same population is sampled multiple times, approximately 95% of the calculated intervals would contain the true parameter. This helps researchers assess the precision and stability of their estimates, make informed decisions, and communicate the degree of uncertainty inherent in their findings. Overall, confidence intervals enhance the interpretability and credibility of statistical results by quantifying the uncertainty around estimates.\n",
        "\n",
        "8. What is the concept of expected value in a probability distribution?\n",
        "   - The concept of expected value in a probability distribution represents the long-run average or mean value of a random variable if an experiment or process is repeated many times. It is a measure of the central tendency that summarizes the distribution by weighting each possible outcome by its probability of occurrence. Mathematically, for a discrete random variable, the expected value is calculated as the sum of all possible values multiplied by their respective probabilities. For a continuous random variable, it is the integral of the variable multiplied by its probability density function. The expected value provides a single summary measure that helps predict the average outcome and is fundamental in decision-making, risk assessment, and various applications across statistics, economics, and engineering.\n",
        "\n",
        "\n",
        "  "
      ],
      "metadata": {
        "id": "PMTXs3r73Te9"
      }
    },
    {
      "cell_type": "code",
      "execution_count": 1,
      "metadata": {
        "colab": {
          "base_uri": "https://localhost:8080/",
          "height": 507
        },
        "id": "wCuUcLvI3OkA",
        "outputId": "4476e6b6-864c-4ef8-a16c-a600f4d9dba5"
      },
      "outputs": [
        {
          "output_type": "stream",
          "name": "stdout",
          "text": [
            "Computed Mean: 49.99\n",
            "Computed Standard Deviation: 5.20\n"
          ]
        },
        {
          "output_type": "display_data",
          "data": {
            "text/plain": [
              "<Figure size 640x480 with 1 Axes>"
            ],
            "image/png": "[encoded data removed]"
          },
          "metadata": {}
        }
      ],
      "source": [
        "# 9. Write a Python program to generate 1000 random numbers from a normal distribution with mean = 50 and standard deviation = 5.\n",
        "# Compute its mean and standard deviation using NumPy, and draw a histogram to visualize the distribution.\n",
        "import numpy as np\n",
        "import matplotlib.pyplot as plt\n",
        "\n",
        "# Parameters\n",
        "mean = 50\n",
        "std_dev = 5\n",
        "num_samples = 1000\n",
        "\n",
        "# Generate random numbers from normal distribution\n",
        "data = np.random.normal(loc=mean, scale=std_dev, size=num_samples)\n",
        "\n",
        "# Compute mean and standard deviation\n",
        "computed_mean = np.mean(data)\n",
        "computed_std_dev = np.std(data)\n",
        "\n",
        "print(f\"Computed Mean: {computed_mean:.2f}\")\n",
        "print(f\"Computed Standard Deviation: {computed_std_dev:.2f}\")\n",
        "\n",
        "# Plot histogram\n",
        "plt.hist(data, bins=30, color='skyblue', edgecolor='black')\n",
        "plt.title('Histogram of Normally Distributed Data')\n",
        "plt.xlabel('Value')\n",
        "plt.ylabel('Frequency')\n",
        "plt.grid(True)\n",
        "plt.show()\n"
      ]
    },
    {
      "cell_type": "markdown",
      "source": [
        "10. You are working as a data analyst for a retail company. The company has\n",
        "collected daily sales data for 2 years and wants you to identify the overall sales trend.\n",
        "daily_sales = [220, 245, 210, 265, 230, 250, 260, 275, 240, 255,\n",
        "235, 260, 245, 250, 225, 270, 265, 255, 250, 260]\n",
        "● Explain how you would apply the Central Limit Theorem to estimate the average sales\n",
        "with a 95% confidence interval.\n",
        "● Write the Python code to compute the mean sales and its confidence interval.\n",
        "    - The Central Limit Theorem helps us understand the average sales by showing that the average of many samples will follow a normal pattern, even if the daily sales data itself doesn’t. Using the 20 days of sales data, we calculate the average and how much the sales vary. Since the sample is small, we use a special t-distribution to find a range (called a confidence interval) where the true average sales likely fall. This range tells us, with 95% confidence, the likely average daily sales, helping the company see the overall sales trend clearly."
      ],
      "metadata": {
        "id": "rRZHqlYE9hA3"
      }
    },
    {
      "cell_type": "code",
      "source": [
        "import numpy as np\n",
        "from scipy import stats\n",
        "\n",
        "\n",
        "daily_sales = [220, 245, 210, 265, 230, 250, 260, 275, 240, 255,\n",
        "               235, 260, 245, 250, 225, 270, 265, 255, 250, 260]\n",
        "\n",
        "# Sample size\n",
        "n = len(daily_sales)\n",
        "\n",
        "# Sample mean\n",
        "mean_sales = np.mean(daily_sales)\n",
        "\n",
        "# Sample standard deviation\n",
        "std_sales = np.std(daily_sales, ddof=1)  # ddof=1 for sample std deviation\n",
        "\n",
        "# Degrees of freedom\n",
        "df = n - 1\n",
        "\n",
        "# Confidence level\n",
        "confidence = 0.95\n",
        "\n",
        "# t critical value for two-tailed test\n",
        "t_crit = stats.t.ppf((1 + confidence) / 2, df)\n",
        "\n",
        "# Margin of error\n",
        "margin_error = t_crit * (std_sales / np.sqrt(n))\n",
        "\n",
        "# Confidence interval\n",
        "ci_lower = mean_sales - margin_error\n",
        "ci_upper = mean_sales + margin_error\n",
        "\n",
        "print(f\"Mean daily sales: {mean_sales:.2f}\")\n",
        "print(f\"95% confidence interval: ({ci_lower:.2f}, {ci_upper:.2f})\")\n"
      ],
      "metadata": {
        "colab": {
          "base_uri": "https://localhost:8080/"
        },
        "id": "JAnBSMRP78x6",
        "outputId": "91e7d1e2-d81d-44ec-b750-69baaac986b9"
      },
      "execution_count": 2,
      "outputs": [
        {
          "output_type": "stream",
          "name": "stdout",
          "text": [
            "Mean daily sales: 248.25\n",
            "95% confidence interval: (240.17, 256.33)\n"
          ]
        }
      ]
    },
    {
      "cell_type": "code",
      "source": [],
      "metadata": {
        "id": "VztYdXWl-M33"
      },
      "execution_count": null,
      "outputs": []
    }
  ]
}